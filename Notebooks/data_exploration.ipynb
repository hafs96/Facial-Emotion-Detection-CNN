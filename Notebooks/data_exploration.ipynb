{
 "cells": [
  {
   "cell_type": "code",
   "execution_count": 1,
   "id": "32e010ab",
   "metadata": {},
   "outputs": [
    {
     "ename": "ModuleNotFoundError",
     "evalue": "No module named 'src'",
     "output_type": "error",
     "traceback": [
      "\u001b[1;31m---------------------------------------------------------------------------\u001b[0m",
      "\u001b[1;31mModuleNotFoundError\u001b[0m                       Traceback (most recent call last)",
      "Cell \u001b[1;32mIn[1], line 1\u001b[0m\n\u001b[1;32m----> 1\u001b[0m \u001b[38;5;28;01mfrom\u001b[39;00m \u001b[38;5;21;01msrc\u001b[39;00m\u001b[38;5;21;01m.\u001b[39;00m\u001b[38;5;21;01mdata_preprocessing\u001b[39;00m \u001b[38;5;28;01mimport\u001b[39;00m preprocess_data\n\u001b[0;32m      3\u001b[0m \u001b[38;5;66;03m# Prétraiter les données\u001b[39;00m\n\u001b[0;32m      4\u001b[0m X_train, y_train, X_val, y_val, X_test, y_test \u001b[38;5;241m=\u001b[39m preprocess_data(\u001b[38;5;124m'\u001b[39m\u001b[38;5;124m../Data/fer2013.csv\u001b[39m\u001b[38;5;124m'\u001b[39m)\n",
      "\u001b[1;31mModuleNotFoundError\u001b[0m: No module named 'src'"
     ]
    }
   ],
   "source": [
    "from src.data_preprocessing import preprocess_data\n",
    "\n",
    "# Prétraiter les données\n",
    "X_train, y_train, X_val, y_val, X_test, y_test = preprocess_data('../Data/fer2013.csv')"
   ]
  }
 ],
 "metadata": {
  "kernelspec": {
   "display_name": "myenvv",
   "language": "python",
   "name": "python3"
  },
  "language_info": {
   "codemirror_mode": {
    "name": "ipython",
    "version": 3
   },
   "file_extension": ".py",
   "mimetype": "text/x-python",
   "name": "python",
   "nbconvert_exporter": "python",
   "pygments_lexer": "ipython3",
   "version": "3.11.9"
  }
 },
 "nbformat": 4,
 "nbformat_minor": 5
}
